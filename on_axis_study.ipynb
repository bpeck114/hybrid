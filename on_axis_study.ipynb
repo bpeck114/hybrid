{
 "cells": [
  {
   "cell_type": "markdown",
   "id": "6f628b82-0b46-4bd6-a910-a7a3ed78c2bc",
   "metadata": {},
   "source": [
    "# Hybrid: On-Axis Study\n",
    "The goal of this jupyter notebook is to produce plots of point-spread function (PSF) metrics and RMS wave-front error (WFE) for the on-axis hybrid LGS trade study. The current plots include:\n",
    "* Height vs. Strehl\n",
    "* Height vs. FWHM\n",
    "* Height vs. EE80\n",
    "* Height vs. WFE"
   ]
  },
  {
   "cell_type": "markdown",
   "id": "ae13ade8-7a7f-4de6-a7ac-cada758c0537",
   "metadata": {},
   "source": [
    "## Setup"
   ]
  },
  {
   "cell_type": "code",
   "execution_count": 18,
   "id": "98fd55e3-8951-4b4d-ab26-462e4e08b55a",
   "metadata": {},
   "outputs": [
    {
     "ename": "ModuleNotFoundError",
     "evalue": "No module named 'readbin'",
     "output_type": "error",
     "traceback": [
      "\u001b[0;31m---------------------------------------------------------------------------\u001b[0m",
      "\u001b[0;31mModuleNotFoundError\u001b[0m                       Traceback (most recent call last)",
      "Cell \u001b[0;32mIn[18], line 4\u001b[0m\n\u001b[1;32m      1\u001b[0m \u001b[38;5;28;01mimport\u001b[39;00m \u001b[38;5;21;01mos\u001b[39;00m\n\u001b[1;32m      2\u001b[0m \u001b[38;5;28;01mimport\u001b[39;00m \u001b[38;5;21;01mimportlib\u001b[39;00m\n\u001b[0;32m----> 4\u001b[0m \u001b[38;5;28;01mfrom\u001b[39;00m \u001b[38;5;21;01mpaarti\u001b[39;00m\u001b[38;5;21;01m.\u001b[39;00m\u001b[38;5;21;01mutils\u001b[39;00m \u001b[38;5;28;01mimport\u001b[39;00m maos_utils\n\u001b[1;32m      6\u001b[0m \u001b[38;5;66;03m#from paarti.utils import maos_utils\u001b[39;00m\n\u001b[1;32m      7\u001b[0m \n\u001b[1;32m      8\u001b[0m \u001b[38;5;66;03m#importlib.reload(maos_utils)\u001b[39;00m\n\u001b[1;32m      9\u001b[0m \n\u001b[1;32m     10\u001b[0m \u001b[38;5;66;03m# Special Packages\u001b[39;00m\n",
      "File \u001b[0;32m~/code/paarti/paarti/utils/maos_utils.py:12\u001b[0m\n\u001b[1;32m     10\u001b[0m \u001b[38;5;66;03m#from photutils import CircularAperture, CircularAnnulus, aperture_photometry\u001b[39;00m\n\u001b[1;32m     11\u001b[0m \u001b[38;5;28;01mimport\u001b[39;00m \u001b[38;5;21;01mglob\u001b[39;00m\n\u001b[0;32m---> 12\u001b[0m \u001b[38;5;28;01mimport\u001b[39;00m \u001b[38;5;21;01mreadbin\u001b[39;00m\n\u001b[1;32m     13\u001b[0m \u001b[38;5;28;01mfrom\u001b[39;00m \u001b[38;5;21;01mscipy\u001b[39;00m \u001b[38;5;28;01mimport\u001b[39;00m stats\n\u001b[1;32m     14\u001b[0m \u001b[38;5;28;01mimport\u001b[39;00m \u001b[38;5;21;01mscipy\u001b[39;00m\u001b[38;5;241m,\u001b[39m \u001b[38;5;21;01mscipy\u001b[39;00m\u001b[38;5;21;01m.\u001b[39;00m\u001b[38;5;21;01mmisc\u001b[39;00m\u001b[38;5;241m,\u001b[39m \u001b[38;5;21;01mscipy\u001b[39;00m\u001b[38;5;21;01m.\u001b[39;00m\u001b[38;5;21;01mndimage\u001b[39;00m\n",
      "\u001b[0;31mModuleNotFoundError\u001b[0m: No module named 'readbin'"
     ]
    }
   ],
   "source": [
    "import os\n",
    "import importlib\n",
    "\n",
    "from paarti.utils import maos_utils\n",
    "\n",
    "#from paarti.utils import maos_utils\n",
    "\n",
    "#importlib.reload(maos_utils)\n",
    "\n",
    "# Special Packages"
   ]
  },
  {
   "cell_type": "code",
   "execution_count": null,
   "id": "6e85e15e-d255-49ca-9a11-8ede5704a9b7",
   "metadata": {},
   "outputs": [],
   "source": []
  }
 ],
 "metadata": {
  "kernelspec": {
   "display_name": "Python 3 (ipykernel)",
   "language": "python",
   "name": "python3"
  },
  "language_info": {
   "codemirror_mode": {
    "name": "ipython",
    "version": 3
   },
   "file_extension": ".py",
   "mimetype": "text/x-python",
   "name": "python",
   "nbconvert_exporter": "python",
   "pygments_lexer": "ipython3",
   "version": "3.9.16"
  }
 },
 "nbformat": 4,
 "nbformat_minor": 5
}
