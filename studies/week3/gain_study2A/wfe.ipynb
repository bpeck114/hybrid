{
 "cells": [
  {
   "cell_type": "code",
   "execution_count": 9,
   "id": "3d690858-5429-417e-bf86-013321cd2533",
   "metadata": {},
   "outputs": [],
   "source": [
    "from bpeck.hybrid import on_axis_study\n",
    "import os"
   ]
  },
  {
   "cell_type": "code",
   "execution_count": 98,
   "id": "f8d7e2d9-a767-42a9-8c49-83090a5664c1",
   "metadata": {},
   "outputs": [],
   "source": [
    "gain = [0000, 100, 200, 300, 400, 500, 600, 700, 800, 900, 1000] # Baseball like format, so 1000 = 1.000\n",
    "gain_value = [0.0, 0.1, 0.2, 0.3, 0.4, 0.5, 0.6, 0.7, 0.8, 1.0]\n",
    "seed = 1\n",
    "bandpass = 3\n",
    "start_index = 2000"
   ]
  },
  {
   "cell_type": "code",
   "execution_count": 106,
   "id": "a7e38b87-6e6c-4b94-9062-74ca5c8e1128",
   "metadata": {},
   "outputs": [],
   "source": [
    "os.chdir(\"200gain\") "
   ]
  },
  {
   "cell_type": "code",
   "execution_count": 107,
   "id": "08c972b3-b434-418a-bcee-f79cd4b31a4c",
   "metadata": {},
   "outputs": [
    {
     "name": "stdout",
     "output_type": "stream",
     "text": [
      "Looking in directory: ./\n",
      "---------------------\n",
      "WaveFront Error (nm): [note, piston removed from all]\n",
      "---------------------\n",
      "               Total   High_Order           TT\n",
      "Open          1073.9        786.3        731.4\n",
      "Closed         288.0        259.3        125.4\n"
     ]
    }
   ],
   "source": [
    "wfe_burn_200 = on_axis_study.print_burn_wfe_metrics(start_index=start_index)"
   ]
  },
  {
   "cell_type": "code",
   "execution_count": 108,
   "id": "456a3b05-6bdd-415b-bcf3-97f07c30e7fa",
   "metadata": {},
   "outputs": [],
   "source": [
    "os.chdir(\"..\")"
   ]
  },
  {
   "cell_type": "code",
   "execution_count": 109,
   "id": "24aca1d3-6165-48fe-af6b-bca908a47e81",
   "metadata": {},
   "outputs": [],
   "source": [
    "os.chdir(\"300gain\")"
   ]
  },
  {
   "cell_type": "code",
   "execution_count": 110,
   "id": "1b12901f-c47a-4dcf-8bc2-0c0683088946",
   "metadata": {},
   "outputs": [
    {
     "name": "stdout",
     "output_type": "stream",
     "text": [
      "Looking in directory: ./\n",
      "---------------------\n",
      "WaveFront Error (nm): [note, piston removed from all]\n",
      "---------------------\n",
      "               Total   High_Order           TT\n",
      "Open          1073.9        786.3        731.4\n",
      "Closed         286.8        259.2        122.7\n"
     ]
    }
   ],
   "source": [
    "wfe_burn_300 = on_axis_study.print_burn_wfe_metrics(start_index=start_index)"
   ]
  },
  {
   "cell_type": "code",
   "execution_count": 111,
   "id": "7182fd2a-7444-477c-84b2-2c6444b93e97",
   "metadata": {},
   "outputs": [],
   "source": [
    "os.chdir(\"..\")"
   ]
  },
  {
   "cell_type": "code",
   "execution_count": 112,
   "id": "3be049d7-f605-4190-8cf0-50fe2a169722",
   "metadata": {},
   "outputs": [],
   "source": [
    "os.chdir(\"400gain\")"
   ]
  },
  {
   "cell_type": "code",
   "execution_count": 113,
   "id": "31a6faf8-4ab9-4b08-a2fe-a853367d195d",
   "metadata": {},
   "outputs": [
    {
     "name": "stdout",
     "output_type": "stream",
     "text": [
      "Looking in directory: ./\n",
      "---------------------\n",
      "WaveFront Error (nm): [note, piston removed from all]\n",
      "---------------------\n",
      "               Total   High_Order           TT\n",
      "Open          1073.9        786.3        731.4\n",
      "Closed         286.7        259.7        121.5\n"
     ]
    }
   ],
   "source": [
    "wfe_burn_400 = on_axis_study.print_burn_wfe_metrics(start_index=start_index)"
   ]
  },
  {
   "cell_type": "code",
   "execution_count": 114,
   "id": "e121872d-ce04-4536-8cd7-fd08ff69aace",
   "metadata": {},
   "outputs": [],
   "source": [
    "os.chdir(\"..\")"
   ]
  },
  {
   "cell_type": "code",
   "execution_count": 104,
   "id": "2d20c03d-34f7-4391-aae5-effc9d32f6d6",
   "metadata": {},
   "outputs": [
    {
     "data": {
      "text/plain": [
       "'/scr2/bpeck/work/hybrid'"
      ]
     },
     "execution_count": 104,
     "metadata": {},
     "output_type": "execute_result"
    }
   ],
   "source": [
    "os.getcwd()"
   ]
  },
  {
   "cell_type": "code",
   "execution_count": 105,
   "id": "ee855586-7158-41ac-bea5-be27639e427c",
   "metadata": {},
   "outputs": [],
   "source": [
    "os.chdir(\"gain_study2A\")"
   ]
  },
  {
   "cell_type": "code",
   "execution_count": null,
   "id": "843ced5c-f9d3-4b34-ac8b-c7e5be336e2d",
   "metadata": {},
   "outputs": [],
   "source": []
  }
 ],
 "metadata": {
  "kernelspec": {
   "display_name": "Python 3 (ipykernel)",
   "language": "python",
   "name": "python3"
  },
  "language_info": {
   "codemirror_mode": {
    "name": "ipython",
    "version": 3
   },
   "file_extension": ".py",
   "mimetype": "text/x-python",
   "name": "python",
   "nbconvert_exporter": "python",
   "pygments_lexer": "ipython3",
   "version": "3.9.16"
  }
 },
 "nbformat": 4,
 "nbformat_minor": 5
}
