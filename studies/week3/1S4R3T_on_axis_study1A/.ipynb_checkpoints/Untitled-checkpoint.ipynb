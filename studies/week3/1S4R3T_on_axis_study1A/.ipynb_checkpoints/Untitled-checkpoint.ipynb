{
 "cells": [
  {
   "cell_type": "code",
   "execution_count": 2,
   "id": "3aa56bdd-ab83-476b-b1ea-6152ebbf84da",
   "metadata": {},
   "outputs": [],
   "source": [
    "import os\n",
    "import numpy as np\n",
    "import matplotlib.pyplot as plt\n",
    "from matplotlib import colors\n",
    "from astropy.io import fits\n",
    "import fnmatch\n",
    "from bpeck.hybrid import gain_study"
   ]
  },
  {
   "cell_type": "code",
   "execution_count": 2,
   "id": "8eea0a3a-a5b0-4be8-b633-89b3bf22fa74",
   "metadata": {},
   "outputs": [
    {
     "data": {
      "text/plain": [
       "'/scr2/bpeck/work/hybrid/studies/week3/1S4R3T_on_axis_study1A'"
      ]
     },
     "execution_count": 2,
     "metadata": {},
     "output_type": "execute_result"
    }
   ],
   "source": [
    "os.getcwd()"
   ]
  },
  {
   "cell_type": "code",
   "execution_count": 3,
   "id": "df6ce28e-cc8b-4bcb-8207-13dbc027f172",
   "metadata": {},
   "outputs": [],
   "source": [
    "import importlib"
   ]
  },
  {
   "cell_type": "code",
   "execution_count": 4,
   "id": "2df123d7-8594-4884-a026-32fb766eae8c",
   "metadata": {},
   "outputs": [
    {
     "data": {
      "text/plain": [
       "<module 'bpeck.hybrid.gain_study' from '/home/bpeck/code/bpeck/bpeck/hybrid/gain_study.py'>"
      ]
     },
     "execution_count": 4,
     "metadata": {},
     "output_type": "execute_result"
    }
   ],
   "source": [
    "importlib.reload(gain_study)"
   ]
  },
  {
   "cell_type": "code",
   "execution_count": 7,
   "id": "8efe3169-2685-4f89-af79-dc8107b73869",
   "metadata": {},
   "outputs": [
    {
     "name": "stdout",
     "output_type": "stream",
     "text": [
      "([ clos_xx_mean_nm_1_2, clos_xx_mean_nm_1_4, clos_xx_mean_nm_1_6, clos_xx_mean_nm_1_8, clos_xx_mean_nm_1_10 ])\n"
     ]
    }
   ],
   "source": [
    "values1 = [20, 22, 24, 26, 28, 30]\n",
    "values2 = [432, 544, 652, 810, 877, 1020, 1248, 1674, 2200]\n",
    "values3 = [5, 10, 15, 25, 35, 45, 55, 60]\n",
    "values4 = [2, 4, 6, 8, 10]\n",
    "prefix = \"clos_xx_mean_nm_1\"\n",
    "gain_study.generate_study_names1(prefix=prefix, values=values4)\n",
    "#gain_study.generate_study_names2(prefix=prefix, values=values3, index=0) \n",
    "#gain_study.generate_study_names2(prefix=prefix, values=values3, index=1) \n",
    "#gain_study.generate_study_names2(prefix=prefix, values=values3, index=2) \n",
    "#gain_study.generate_study_names2(prefix=prefix, values=values3, index=3) \n",
    "#gain_study.generate_study_names2(prefix=prefix, values=values3, index=4) \n",
    "#gain_study.generate_study_names2(prefix=prefix, values=values3, index=5) \n",
    "#gain_study.generate_study_names2(prefix=prefix, values=values3, index=6) \n",
    "#gain_study.generate_study_names2(prefix=prefix, values=values3, index=7) \n",
    "#gain_study.generate_study_names2(prefix=prefix, values=values3, index=8) "
   ]
  },
  {
   "cell_type": "code",
   "execution_count": null,
   "id": "93935736-7f57-4e2a-bbe8-763967c1bfdd",
   "metadata": {},
   "outputs": [],
   "source": []
  },
  {
   "cell_type": "code",
   "execution_count": null,
   "id": "504adcf6-3807-45bf-8503-8a0c542474da",
   "metadata": {},
   "outputs": [],
   "source": []
  },
  {
   "cell_type": "code",
   "execution_count": null,
   "id": "88a269e8-42ad-47b7-9313-9f55e7cf5c25",
   "metadata": {},
   "outputs": [],
   "source": []
  },
  {
   "cell_type": "code",
   "execution_count": 3,
   "id": "9a02920f-6ede-4daa-a831-a16d6c635723",
   "metadata": {},
   "outputs": [],
   "source": [
    "os.chdir('20km')"
   ]
  },
  {
   "cell_type": "code",
   "execution_count": 4,
   "id": "f6afe517-a002-459e-bd24-e54813a3d6b0",
   "metadata": {},
   "outputs": [],
   "source": [
    "def load_maos_psf_stack(directory = './', bandpass=8):\n",
    "    # FITS  = flexible image transfer system \n",
    "    filelist = os.listdir(directory) # Grab all files from current directory \n",
    "    fits_files = fnmatch.filter(filelist, 'evlpsfcl_1_x*_y*.fits') # Only grab PSF fits files\n",
    "    n_psf_fits_files = len(fits_files) # Counts how many PSF fits files\n",
    "\n",
    "    for i, FITSfilename in enumerate(fits_files): # Iterate over PSF fits files\n",
    "        with fits.open(directory + FITSfilename) as psfFITS: # Enter PSF fits files\n",
    "            header = psfFITS[bandpass].header # Grab header info from PSF fit file\n",
    "            data = psfFITS[bandpass].data # Grab data info from PSF fit fie\n",
    "\n",
    "            psf_x_size = data.shape[1] # 1 is width, so x-values \n",
    "            psf_y_size = data.shape[0] # 0 is height, so y-values\n",
    "            pixel_scale = header['dp'] # Retrieves pixel scale from header\n",
    "            wavelength = header['wvl']*1e9 # Retrieves wavelength (in nanometers) from header (bandpass)\n",
    "\n",
    "            psfs = np.empty([n_psf_fits_files, psf_x_size, psf_y_size]) # Creates empty 2D array to store \n",
    "            pos = np.empty([n_psf_fits_files, 2]) # Creates empty 2D array to store (x,y) of PSFs, arbitrary fill\n",
    "            \n",
    "            psfs[i, :, :] = data # Fills 2D \"psfs\" array with (x,y) information from each PSF\n",
    "            pos[i, 0] = header['theta'].imag \n",
    "            pos[i, 1] = header['theta'].real\n",
    "\n",
    "            psf_width_arc = psf_x_size * pixel_scale # How many arcseconds across one PSF is\n",
    "            psf_height_arc = psf_y_size * pixel_scale\n",
    "            \n",
    "    return psfs, pos, pixel_scale, wavelength, bandpass"
   ]
  },
  {
   "cell_type": "code",
   "execution_count": 5,
   "id": "60ab6b95-1010-4e71-8fe3-5d69872c5946",
   "metadata": {},
   "outputs": [],
   "source": [
    "maos_psf_stack = load_maos_psf_stack()\n",
    "psfs, pos, pixel_scale, wavelength, bandpass = maos_psf_stack"
   ]
  },
  {
   "cell_type": "code",
   "execution_count": 6,
   "id": "475ff7d4-0097-48ef-8004-dacc817550f9",
   "metadata": {},
   "outputs": [],
   "source": [
    "def plot_psf_stack(psfs, pos, pixel_scale, zoom=None, scale='log', color='range', linthresh=1e-4):\n",
    "    n = psfs.shape[0] # Counts how many PSF fits files there are \n",
    "    zoom_px = round(psfs.shape[1]/2) # Sets zoom-out limit\n",
    "    if zoom is not None and (zoom/pixel_scale) < zoom_px: \n",
    "        zoom_px = np.ceil(zoom / pixel_scale) \n",
    "    else:\n",
    "        print(\"Improper zoom (arcseconds). Setting zoom to:\", zoom_px*pixel_scale)\n",
    "\n",
    "    zoom_px_min = (psfs.shape[1] / 2) - zoom_px # Min zoom\n",
    "    zoom_px_max = (psfs.shape[1] / 2) + zoom_px # Max zoom\n",
    "\n",
    "    psf_color = psfs[:, int(zoom_px_min): int(zoom_px_max), int(zoom_px_min): int(zoom_px_max)]  \n",
    "\n",
    "    if color == 'range':\n",
    "        cmap_color = 'hot_r'\n",
    "        psf_color_min = np.min(psf_color)\n",
    "        psf_color_max = np.max(psf_color)\n",
    "\n",
    "        if scale == 'log':\n",
    "            norm = colors.LogNorm(vmin=psf_color_min, vmax=psf_color_max)\n",
    "        else: \n",
    "            norm = colors.Normalize(vmin=psf_color_min, vmax=psf_color_max)\n",
    "\n",
    "    n_psfs_side = int(n*0.5) # For making a grid of PSFs\n",
    "    plot_box_size = 0.85\n",
    "    xlo = 0.1\n",
    "    xhi = xlo + plot_box_size\n",
    "    ylo = 0.05\n",
    "    yhi = ylo + plot_box_size\n",
    "\n",
    "    box_scale = 0.95\n",
    "    psf_axes_size = (plot_box_size / n_psfs_side) * box_scale\n",
    "    psf_box_size = n_psfs_side * psf_axes_size\n",
    "    scale_param = n_psfs_side / (n_psfs_side + 2)\n",
    "\n",
    "    xpos_rng = pos[:,0]\n",
    "    \n",
    "    print(scale_param)"
   ]
  },
  {
   "cell_type": "code",
   "execution_count": 7,
   "id": "bb4b2966-4355-4834-b00b-3bc5c0ef9085",
   "metadata": {},
   "outputs": [
    {
     "name": "stdout",
     "output_type": "stream",
     "text": [
      "Improper zoom (arcseconds). Setting zoom to: 1.2907584\n",
      "0.7142857142857143\n"
     ]
    }
   ],
   "source": [
    "plot_psf_stack(psfs=psfs, pos=pos, pixel_scale=pixel_scale)"
   ]
  },
  {
   "cell_type": "code",
   "execution_count": 34,
   "id": "4089aa81-e524-46c8-b2d0-7e6255a0a493",
   "metadata": {},
   "outputs": [],
   "source": [
    "def main(output_file, master_file, radius):\n",
    "    thetax = []\n",
    "    thetay = []\n",
    "    \n",
    "    for r in radius: \n",
    "        thetax.append([r, 0 -r, 0])\n",
    "        thetay.append([0, r, 0, -r])\n",
    "\n",
    "    for r, x, y in zip(radius, thetax, thetay):\n",
    "        x_coors = ' '.join(map(str, x))\n",
    "        y_coors = ' '.join(map(str, y))\n",
    "        \n",
    "        command = f\"maos -o {output_file}/{r}as -c {master_file} plot.all=1 plot.setup=1 -O powfs.nwfs=[1 4 3 1] wfs.thetax=[0 {x_coors} 5 -2.5 -2.5 0] wfs.thetay=[0 {y_coors} 4.33 -4.33 0] powfs1_llt.ox = [1 0 -1 0]*6.5 powfs1_llt.oy=[0 1 0 -1]*6.5\"\n",
    "        print(command)"
   ]
  },
  {
   "cell_type": "code",
   "execution_count": 35,
   "id": "0a2d3fb8-64de-4d22-a32f-c55f6e7ccd96",
   "metadata": {},
   "outputs": [
    {
     "name": "stdout",
     "output_type": "stream",
     "text": [
      "maos -o test/5as -c A_test.conf plot.all=1 plot.setup=1 -O powfs.nwfs=[1 4 3 1] wfs.thetax=[0 5 -5 0 5 -2.5 -2.5 0] wfs.thetay=[0 0 5 0 -5 4.33 -4.33 0] powfs1_llt.ox = [1 0 -1 0]*6.5 powfs1_llt.oy=[0 1 0 -1]*6.5\n",
      "maos -o test/15as -c A_test.conf plot.all=1 plot.setup=1 -O powfs.nwfs=[1 4 3 1] wfs.thetax=[0 15 -15 0 5 -2.5 -2.5 0] wfs.thetay=[0 0 15 0 -15 4.33 -4.33 0] powfs1_llt.ox = [1 0 -1 0]*6.5 powfs1_llt.oy=[0 1 0 -1]*6.5\n",
      "maos -o test/25as -c A_test.conf plot.all=1 plot.setup=1 -O powfs.nwfs=[1 4 3 1] wfs.thetax=[0 25 -25 0 5 -2.5 -2.5 0] wfs.thetay=[0 0 25 0 -25 4.33 -4.33 0] powfs1_llt.ox = [1 0 -1 0]*6.5 powfs1_llt.oy=[0 1 0 -1]*6.5\n",
      "maos -o test/35as -c A_test.conf plot.all=1 plot.setup=1 -O powfs.nwfs=[1 4 3 1] wfs.thetax=[0 35 -35 0 5 -2.5 -2.5 0] wfs.thetay=[0 0 35 0 -35 4.33 -4.33 0] powfs1_llt.ox = [1 0 -1 0]*6.5 powfs1_llt.oy=[0 1 0 -1]*6.5\n",
      "maos -o test/45as -c A_test.conf plot.all=1 plot.setup=1 -O powfs.nwfs=[1 4 3 1] wfs.thetax=[0 45 -45 0 5 -2.5 -2.5 0] wfs.thetay=[0 0 45 0 -45 4.33 -4.33 0] powfs1_llt.ox = [1 0 -1 0]*6.5 powfs1_llt.oy=[0 1 0 -1]*6.5\n",
      "maos -o test/60as -c A_test.conf plot.all=1 plot.setup=1 -O powfs.nwfs=[1 4 3 1] wfs.thetax=[0 60 -60 0 5 -2.5 -2.5 0] wfs.thetay=[0 0 60 0 -60 4.33 -4.33 0] powfs1_llt.ox = [1 0 -1 0]*6.5 powfs1_llt.oy=[0 1 0 -1]*6.5\n"
     ]
    }
   ],
   "source": [
    "main(output_file=\"test\", master_file=\"A_test.conf\", radius=[5, 15, 25, 35, 45, 60])"
   ]
  },
  {
   "cell_type": "code",
   "execution_count": null,
   "id": "86504578-ece0-456c-b721-3b8cb289ad2d",
   "metadata": {},
   "outputs": [],
   "source": []
  }
 ],
 "metadata": {
  "kernelspec": {
   "display_name": "Python 3 (ipykernel)",
   "language": "python",
   "name": "python3"
  },
  "language_info": {
   "codemirror_mode": {
    "name": "ipython",
    "version": 3
   },
   "file_extension": ".py",
   "mimetype": "text/x-python",
   "name": "python",
   "nbconvert_exporter": "python",
   "pygments_lexer": "ipython3",
   "version": "3.9.16"
  }
 },
 "nbformat": 4,
 "nbformat_minor": 5
}
