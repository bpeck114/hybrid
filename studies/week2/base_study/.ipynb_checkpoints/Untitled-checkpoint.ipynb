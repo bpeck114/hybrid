{
 "cells": [
  {
   "cell_type": "code",
   "execution_count": 1,
   "id": "f8aa5b47-fcd1-4e77-9f84-eb8dadf0b64b",
   "metadata": {},
   "outputs": [],
   "source": [
    "from paarti.utils import maos_utils"
   ]
  },
  {
   "cell_type": "code",
   "execution_count": 2,
   "id": "72d2b946-210b-4f7f-ae6c-6edb36191ee2",
   "metadata": {},
   "outputs": [
    {
     "name": "stdout",
     "output_type": "stream",
     "text": [
      "Looking in directory: ./\n",
      "---------------------\n",
      "WaveFront Error (nm): [note, piston removed from all]\n",
      "---------------------\n",
      "               Total   High_Order           TT\n",
      "Open          1631.6        968.0       1313.4\n",
      "Closed         359.3        322.0        159.5\n"
     ]
    },
    {
     "data": {
      "text/plain": [
       "(array([1631.61535005, 1313.44735999,  968.00035283]),\n",
       " array([359.30780901, 159.50140258, 321.96491143]))"
      ]
     },
     "execution_count": 2,
     "metadata": {},
     "output_type": "execute_result"
    }
   ],
   "source": [
    "maos_utils.print_wfe_metrics(seed=1)"
   ]
  },
  {
   "cell_type": "code",
   "execution_count": null,
   "id": "7b28289c-3697-4df7-975c-591c846c7aba",
   "metadata": {},
   "outputs": [],
   "source": []
  }
 ],
 "metadata": {
  "kernelspec": {
   "display_name": "Python 3 (ipykernel)",
   "language": "python",
   "name": "python3"
  },
  "language_info": {
   "codemirror_mode": {
    "name": "ipython",
    "version": 3
   },
   "file_extension": ".py",
   "mimetype": "text/x-python",
   "name": "python",
   "nbconvert_exporter": "python",
   "pygments_lexer": "ipython3",
   "version": "3.9.16"
  }
 },
 "nbformat": 4,
 "nbformat_minor": 5
}
