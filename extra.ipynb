{
 "cells": [
  {
   "cell_type": "code",
   "execution_count": 1,
   "id": "9b661ff1-8c15-43dc-a235-8e6282f55fca",
   "metadata": {},
   "outputs": [],
   "source": [
    "from bpeck.mcao import act_study, utils\n",
    "from paarti.utils import maos_utils\n",
    "import math"
   ]
  },
  {
   "cell_type": "code",
   "execution_count": 2,
   "id": "ccef7b67-9635-40a5-af56-625176715938",
   "metadata": {},
   "outputs": [
    {
     "data": {
      "text/plain": [
       "([0.244], [1600])"
      ]
     },
     "execution_count": 2,
     "metadata": {},
     "output_type": "execute_result"
    }
   ],
   "source": [
    "utils.calc_side(1600, 1700, 100, sigfigs=3)"
   ]
  },
  {
   "cell_type": "code",
   "execution_count": 17,
   "id": "e60b51c6-0175-4713-b685-b2eea385e3ce",
   "metadata": {},
   "outputs": [
    {
     "name": "stdout",
     "output_type": "stream",
     "text": [
      "Assumptions:\n",
      "  Wave-Front Sensor       = LGSWFS\n",
      "  Pupil Aperture Diameter = 0.24 m (assumed square)\n",
      "  Throughput (w QE)       = 0.32\n",
      "  Plate Scale             = 3.000 arcsec/pix\n",
      "  Spot Size Diameter      = 1.500 arcsec\n",
      "  Filter                  = R\n",
      "  Readnoise               = 3.0 e-\n",
      "  Pixels per Subaperture  = 4\n",
      "  Integration Time        = 0.0007 s\n",
      "  Guide Star Magnitude    = 8.00\n",
      "\n",
      "Outputs:\n",
      "  N_photons from star (powfs.siglev for MAOS config): 82.429\n",
      "  N_photons per pixel from background (powfs.bkgrnd):   0.009\n",
      "  SNR:                                   7.573\n",
      "  NEA (powfs.nearecon): 198.064 mas\n"
     ]
    },
    {
     "data": {
      "text/plain": [
       "(7.573319900673564,\n",
       " 198.06373158310552,\n",
       " 82.42920591655668,\n",
       " 0.008919153238250802)"
      ]
     },
     "execution_count": 17,
     "metadata": {},
     "output_type": "execute_result"
    }
   ],
   "source": [
    "#LGS\n",
    "maos_utils.keck_nea_photons_any_config(wfs='LGSWFS', \n",
    "                                       side=0.244, \n",
    "                                       throughput = 0.36 * 0.88, \n",
    "                                       ps=3.0, \n",
    "                                       theta_beta=1.5 * ( math.pi/180.0 ) / ( 60.0*60.0 ), \n",
    "                                       band='R', \n",
    "                                       sigma_e=3.0, \n",
    "                                       pix_per_ap=4, \n",
    "                                       time=1/1500, \n",
    "                                       m=8)"
   ]
  },
  {
   "cell_type": "code",
   "execution_count": 19,
   "id": "a3fcd349-c8a5-419c-8e71-7a429e906fdc",
   "metadata": {},
   "outputs": [
    {
     "name": "stdout",
     "output_type": "stream",
     "text": [
      "Assumptions:\n",
      "  Wave-Front Sensor       = STRAP\n",
      "  Pupil Aperture Diameter = 9.57 m (assumed square)\n",
      "  Throughput (w QE)       = 0.32\n",
      "  Plate Scale             = 1.300 arcsec/pix\n",
      "  Spot Size Diameter      = 0.490 arcsec\n",
      "  Filter                  = R\n",
      "  Readnoise               = 0.1 e-\n",
      "  Pixels per Subaperture  = 4\n",
      "  Integration Time        = 0.0007 s\n",
      "  Guide Star Magnitude    = 8.00\n",
      "\n",
      "Outputs:\n",
      "  N_photons from star (powfs.siglev for MAOS config): 128116.746\n",
      "  N_photons per pixel from background (powfs.bkgrnd):   2.603\n",
      "  SNR:                                   357.919\n",
      "  NEA (powfs.nearecon): 1.369 mas\n"
     ]
    },
    {
     "data": {
      "text/plain": [
       "(357.9193962285841, 1.3690233196724075, 128116.74578592723, 2.603110497241052)"
      ]
     },
     "execution_count": 19,
     "metadata": {},
     "output_type": "execute_result"
    }
   ],
   "source": [
    "#TT\n",
    "maos_utils.keck_nea_photons(m=8, wfs='STRAP', wfs_int_time=1/1500)"
   ]
  },
  {
   "cell_type": "code",
   "execution_count": 20,
   "id": "53e3feee-4b17-4587-ac0e-2f2337b54809",
   "metadata": {},
   "outputs": [
    {
     "name": "stdout",
     "output_type": "stream",
     "text": [
      "Assumptions:\n",
      "  Wave-Front Sensor       = LBWFS\n",
      "  Pupil Aperture Diameter = 0.56 m (assumed square)\n",
      "  Throughput (w QE)       = 0.03\n",
      "  Plate Scale             = 1.500 arcsec/pix\n",
      "  Spot Size Diameter      = 0.490 arcsec\n",
      "  Filter                  = R\n",
      "  Readnoise               = 7.96 e-\n",
      "  Pixels per Subaperture  = 4\n",
      "  Integration Time        = 0.0007 s\n",
      "  Guide Star Magnitude    = 8.00\n",
      "\n",
      "Outputs:\n",
      "  N_photons from star (powfs.siglev for MAOS config): 41.558\n",
      "  N_photons per pixel from background (powfs.bkgrnd):   0.001\n",
      "  SNR:                                   2.420\n",
      "  NEA (powfs.nearecon): 202.516 mas\n"
     ]
    },
    {
     "data": {
      "text/plain": [
       "(2.419562247629126, 202.5159718375255, 41.5579709255443, 0.001124182584419542)"
      ]
     },
     "execution_count": 20,
     "metadata": {},
     "output_type": "execute_result"
    }
   ],
   "source": [
    "#LBWFS\n",
    "maos_utils.keck_nea_photons(m=8, wfs='LBWFS', wfs_int_time=1/1500)"
   ]
  },
  {
   "cell_type": "code",
   "execution_count": null,
   "id": "dc412b22-f233-48b6-b843-325bd2a90035",
   "metadata": {},
   "outputs": [],
   "source": []
  }
 ],
 "metadata": {
  "kernelspec": {
   "display_name": "Python 3 (ipykernel)",
   "language": "python",
   "name": "python3"
  },
  "language_info": {
   "codemirror_mode": {
    "name": "ipython",
    "version": 3
   },
   "file_extension": ".py",
   "mimetype": "text/x-python",
   "name": "python",
   "nbconvert_exporter": "python",
   "pygments_lexer": "ipython3",
   "version": "3.9.16"
  }
 },
 "nbformat": 4,
 "nbformat_minor": 5
}
