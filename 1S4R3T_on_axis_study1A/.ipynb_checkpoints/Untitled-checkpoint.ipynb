{
 "cells": [
  {
   "cell_type": "code",
   "execution_count": 4,
   "id": "3aa56bdd-ab83-476b-b1ea-6152ebbf84da",
   "metadata": {},
   "outputs": [],
   "source": [
    "import os\n",
    "import numpy as np\n",
    "import matplotlib.pyplot as plt\n",
    "from matplotlib import colors\n",
    "from astropy.io import fits\n",
    "import fnmatch"
   ]
  },
  {
   "cell_type": "code",
   "execution_count": 5,
   "id": "9a02920f-6ede-4daa-a831-a16d6c635723",
   "metadata": {},
   "outputs": [],
   "source": [
    "os.chdir('20km')"
   ]
  },
  {
   "cell_type": "code",
   "execution_count": 68,
   "id": "f6afe517-a002-459e-bd24-e54813a3d6b0",
   "metadata": {},
   "outputs": [],
   "source": [
    "def load_maos_psf_stack(directory = './', bandpass=8):\n",
    "    # FITS  = flexible image transfer system \n",
    "    filelist = os.listdir(directory) # Grab all files from current directory \n",
    "    fits_files = fnmatch.filter(filelist, 'evlpsfcl_1_x*_y*.fits') # Only grab PSF fits files\n",
    "    n_psf_fits_files = len(fits_files) # Counts how many PSF fits files\n",
    "\n",
    "    for i, FITSfilename in enumerate(fits_files): # Iterate over PSF fits files\n",
    "        with fits.open(directory + FITSfilename) as psfFITS: # Enter PSF fits files\n",
    "            header = psfFITS[bandpass].header # Grab header info from PSF fit file\n",
    "            data = psfFITS[bandpass].data # Grab data info from PSF fit fie\n",
    "\n",
    "            psf_x_size = data.shape[1] # 1 is width, so x-values \n",
    "            psf_y_size = data.shape[0] # 0 is height, so y-values\n",
    "            pixel_scale = header['dp'] # Retrieves pixel scale from header\n",
    "            wavelength = header['wvl']*1e9 # Retrieves wavelength (in nanometers) from header (bandpass)\n",
    "\n",
    "            psfs = np.empty([n_psf_fits_files, psf_x_size, psf_y_size]) # Creates empty 2D array to store \n",
    "            pos = np.empty([n_psf_fits_files, 2]) # Creates empty 2D array to store (x,y) of PSFs, arbitrary fill\n",
    "            \n",
    "            psfs[i, :, :] = data # Fills 2D \"psfs\" array with (x,y) information from each PSF\n",
    "            pos[i, 0] = header['theta'].imag\n",
    "            pos[i, 1] = header['theta'].real\n",
    "            \n",
    "    return psfs, pos, pixel_scale, wavelength, bandpass"
   ]
  },
  {
   "cell_type": "code",
   "execution_count": 70,
   "id": "60ab6b95-1010-4e71-8fe3-5d69872c5946",
   "metadata": {},
   "outputs": [],
   "source": [
    "maos_psf_stack = load_maos_psf_stack()\n",
    "psfs, pos, pixel_scale, wavelength, bandpass = maos_psf_stack"
   ]
  },
  {
   "cell_type": "code",
   "execution_count": 67,
   "id": "475ff7d4-0097-48ef-8004-dacc817550f9",
   "metadata": {},
   "outputs": [],
   "source": [
    "def plot_psf_stack(psfs, pos, pixel_scale, zoom=None, scale='log', color='range', linthresh=1e-4):\n",
    "    n = psfs.shape[0]\n",
    "    zoom_px = round(psfs_shape[1\n",
    "    print(n)"
   ]
  },
  {
   "cell_type": "code",
   "execution_count": 71,
   "id": "bb4b2966-4355-4834-b00b-3bc5c0ef9085",
   "metadata": {},
   "outputs": [
    {
     "name": "stdout",
     "output_type": "stream",
     "text": [
      "10\n"
     ]
    }
   ],
   "source": [
    "plot_psf_stack(psfs=psfs, pos=pos, pixel_scale=pixel_scale)"
   ]
  },
  {
   "cell_type": "code",
   "execution_count": null,
   "id": "4089aa81-e524-46c8-b2d0-7e6255a0a493",
   "metadata": {},
   "outputs": [],
   "source": []
  }
 ],
 "metadata": {
  "kernelspec": {
   "display_name": "Python 3 (ipykernel)",
   "language": "python",
   "name": "python3"
  },
  "language_info": {
   "codemirror_mode": {
    "name": "ipython",
    "version": 3
   },
   "file_extension": ".py",
   "mimetype": "text/x-python",
   "name": "python",
   "nbconvert_exporter": "python",
   "pygments_lexer": "ipython3",
   "version": "3.9.16"
  }
 },
 "nbformat": 4,
 "nbformat_minor": 5
}
